{
 "cells": [
  {
   "cell_type": "code",
   "execution_count": 1,
   "metadata": {},
   "outputs": [],
   "source": [
    "import nltk"
   ]
  },
  {
   "cell_type": "code",
   "execution_count": 2,
   "metadata": {},
   "outputs": [],
   "source": [
    "corpus = \"\"\"In the year 1960, APJ Abdul Kalam’s graduation took place from Madras Institute of Technology. The association of Kalam took place with the Defence Research & Development Service (DRDS). Furthermore, he joined as a scientist at the Aeronautical Development Establishment of the Defence Research and Development Organisation. These were the beginning achievements of his prestigious career as a scientist.\n",
    "\n",
    "Big achievement for Kalam came when he was the project director at ISRO of India‘s first-ever Satellite Launch Vehicle (SLV- III). This satellite was responsible for the deployment of the Rohini satellite in 1980. Moreover, Kalam was highly influential in the development of Polar Satellite Launch Vehicle (PSLV) and SLV projects.\n",
    "\n",
    "Both projects were successful. Bringing enhancement in the reputation of Kalam. Furthermore, the development of ballistic missiles was possible because of the efforts of this man. Most noteworthy, Kalam earned the esteemed title of “The missile Man of India”.\n",
    "\n",
    "The Government of India became aware of the brilliance of this man and made him the Chief Executive of the Integrated Guided Missiles Development Program (IGMDP). Furthermore, this program was responsible for the research and development of Missiles. The achievements of this distinguished man didn’t stop there.\n",
    "\n",
    "More success was to come in the form of Agni and Prithvi missiles. Once again, Kalam was influential in the developments of these missiles. It was during his tenure in IGMDP that Kalam played an instrumental role in the developments of missiles like Agni and Prithvi. Moreover, Kamal was a key figure in the Pokhran II nuclear test.\"\"\""
   ]
  },
  {
   "cell_type": "code",
   "execution_count": 4,
   "metadata": {},
   "outputs": [
    {
     "name": "stderr",
     "output_type": "stream",
     "text": [
      "[nltk_data] Downloading package averaged_perceptron_tagger to\n",
      "[nltk_data]     C:\\Users\\llegi\\AppData\\Roaming\\nltk_data...\n",
      "[nltk_data]   Unzipping taggers\\averaged_perceptron_tagger.zip.\n"
     ]
    },
    {
     "data": {
      "text/plain": [
       "True"
      ]
     },
     "execution_count": 4,
     "metadata": {},
     "output_type": "execute_result"
    }
   ],
   "source": [
    "nltk.download('averaged_perceptron_tagger')"
   ]
  },
  {
   "cell_type": "code",
   "execution_count": 5,
   "metadata": {},
   "outputs": [
    {
     "name": "stdout",
     "output_type": "stream",
     "text": [
      "[('In', 'IN'), ('year', 'NN'), ('1960', 'CD'), (',', ','), ('APJ', 'NNP'), ('Abdul', 'NNP'), ('Kalam', 'NNP'), ('’', 'NNP'), ('graduation', 'NN'), ('took', 'VBD'), ('place', 'NN'), ('Madras', 'NNP'), ('Institute', 'NNP'), ('Technology', 'NNP'), ('.', '.')]\n",
      "[('The', 'DT'), ('association', 'NN'), ('Kalam', 'NNP'), ('took', 'VBD'), ('place', 'NN'), ('Defence', 'NNP'), ('Research', 'NNP'), ('&', 'CC'), ('Development', 'NNP'), ('Service', 'NNP'), ('(', '('), ('DRDS', 'NNP'), (')', ')'), ('.', '.')]\n",
      "[('Furthermore', 'RB'), (',', ','), ('joined', 'VBD'), ('scientist', 'JJ'), ('Aeronautical', 'NNP'), ('Development', 'NNP'), ('Establishment', 'NNP'), ('Defence', 'NNP'), ('Research', 'NNP'), ('Development', 'NNP'), ('Organisation', 'NNP'), ('.', '.')]\n",
      "[('These', 'DT'), ('beginning', 'VBG'), ('achievements', 'NNS'), ('prestigious', 'JJ'), ('career', 'NN'), ('scientist', 'NN'), ('.', '.')]\n",
      "[('Big', 'JJ'), ('achievement', 'NN'), ('Kalam', 'NNP'), ('came', 'VBD'), ('project', 'JJ'), ('director', 'NN'), ('ISRO', 'NNP'), ('India', 'NNP'), ('‘', 'NNP'), ('first-ever', 'JJ'), ('Satellite', 'NNP'), ('Launch', 'NNP'), ('Vehicle', 'NNP'), ('(', '('), ('SLV-', 'NNP'), ('III', 'NNP'), (')', ')'), ('.', '.')]\n",
      "[('This', 'DT'), ('satellite', 'NN'), ('responsible', 'JJ'), ('deployment', 'NN'), ('Rohini', 'NNP'), ('satellite', 'NN'), ('1980', 'CD'), ('.', '.')]\n",
      "[('Moreover', 'RB'), (',', ','), ('Kalam', 'NNP'), ('highly', 'RB'), ('influential', 'JJ'), ('development', 'NN'), ('Polar', 'NNP'), ('Satellite', 'NNP'), ('Launch', 'NNP'), ('Vehicle', 'NNP'), ('(', '('), ('PSLV', 'NNP'), (')', ')'), ('SLV', 'NNP'), ('projects', 'NNS'), ('.', '.')]\n",
      "[('Both', 'DT'), ('projects', 'NNS'), ('successful', 'JJ'), ('.', '.')]\n",
      "[('Bringing', 'VBG'), ('enhancement', 'JJ'), ('reputation', 'NN'), ('Kalam', 'NNP'), ('.', '.')]\n",
      "[('Furthermore', 'RB'), (',', ','), ('development', 'NN'), ('ballistic', 'JJ'), ('missiles', 'NNS'), ('possible', 'JJ'), ('efforts', 'NNS'), ('man', 'NN'), ('.', '.')]\n",
      "[('Most', 'JJS'), ('noteworthy', 'JJ'), (',', ','), ('Kalam', 'NNP'), ('earned', 'VBD'), ('esteemed', 'JJ'), ('title', 'NN'), ('“', 'VBD'), ('The', 'DT'), ('missile', 'NN'), ('Man', 'NNP'), ('India', 'NNP'), ('”', 'NNP'), ('.', '.')]\n",
      "[('The', 'DT'), ('Government', 'NNP'), ('India', 'NNP'), ('became', 'VBD'), ('aware', 'JJ'), ('brilliance', 'NN'), ('man', 'NN'), ('made', 'VBD'), ('Chief', 'NNP'), ('Executive', 'NNP'), ('Integrated', 'NNP'), ('Guided', 'VBD'), ('Missiles', 'NNP'), ('Development', 'NNP'), ('Program', 'NNP'), ('(', '('), ('IGMDP', 'NNP'), (')', ')'), ('.', '.')]\n",
      "[('Furthermore', 'RB'), (',', ','), ('program', 'NN'), ('responsible', 'JJ'), ('research', 'NN'), ('development', 'NN'), ('Missiles', 'NNP'), ('.', '.')]\n",
      "[('The', 'DT'), ('achievements', 'NNS'), ('distinguished', 'VBD'), ('man', 'NN'), ('’', 'NNP'), ('stop', 'NN'), ('.', '.')]\n",
      "[('More', 'JJR'), ('success', 'NN'), ('come', 'VBN'), ('form', 'JJ'), ('Agni', 'NNP'), ('Prithvi', 'NNP'), ('missiles', 'NNS'), ('.', '.')]\n",
      "[('Once', 'RB'), (',', ','), ('Kalam', 'NNP'), ('influential', 'JJ'), ('developments', 'NNS'), ('missiles', 'NNS'), ('.', '.')]\n",
      "[('It', 'PRP'), ('tenure', 'NN'), ('IGMDP', 'NNP'), ('Kalam', 'NNP'), ('played', 'VBD'), ('instrumental', 'JJ'), ('role', 'NN'), ('developments', 'NNS'), ('missiles', 'NNS'), ('like', 'IN'), ('Agni', 'NNP'), ('Prithvi', 'NNP'), ('.', '.')]\n",
      "[('Moreover', 'RB'), (',', ','), ('Kamal', 'NNP'), ('key', 'JJ'), ('figure', 'NN'), ('Pokhran', 'NNP'), ('II', 'NNP'), ('nuclear', 'JJ'), ('test', 'NN'), ('.', '.')]\n"
     ]
    }
   ],
   "source": [
    "from nltk.corpus import stopwords\n",
    "sentences = nltk.sent_tokenize(corpus)\n",
    "for i in range(len(sentences)):\n",
    "    words = nltk.word_tokenize(sentences[i])\n",
    "    words = [word for word in words if word not in stopwords.words('english')]\n",
    "    pos_tags = nltk.pos_tag(words)\n",
    "    print(pos_tags)"
   ]
  },
  {
   "cell_type": "code",
   "execution_count": 7,
   "metadata": {},
   "outputs": [
    {
     "data": {
      "text/plain": [
       "['taj', 'mahal', 'is', 'a', 'beautiful', 'monument']"
      ]
     },
     "execution_count": 7,
     "metadata": {},
     "output_type": "execute_result"
    }
   ],
   "source": [
    "\"taj mahal is a beautiful monument\".split()"
   ]
  },
  {
   "cell_type": "code",
   "execution_count": 13,
   "metadata": {},
   "outputs": [
    {
     "name": "stdout",
     "output_type": "stream",
     "text": [
      "[('taj', 'NN'), ('mahal', 'NN'), ('is', 'VBZ'), ('a', 'DT'), ('beautiful', 'JJ'), ('monument', 'NN')]\n"
     ]
    }
   ],
   "source": [
    "print(nltk.pos_tag(\"taj mahal is a beautiful monument\".split()))\n"
   ]
  },
  {
   "cell_type": "code",
   "execution_count": null,
   "metadata": {},
   "outputs": [],
   "source": []
  }
 ],
 "metadata": {
  "kernelspec": {
   "display_name": "base",
   "language": "python",
   "name": "python3"
  },
  "language_info": {
   "codemirror_mode": {
    "name": "ipython",
    "version": 3
   },
   "file_extension": ".py",
   "mimetype": "text/x-python",
   "name": "python",
   "nbconvert_exporter": "python",
   "pygments_lexer": "ipython3",
   "version": "3.12.4"
  }
 },
 "nbformat": 4,
 "nbformat_minor": 2
}
