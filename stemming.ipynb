{
 "cells": [
  {
   "cell_type": "markdown",
   "metadata": {},
   "source": [
    "#### stemming is a process of reducing the word to it's word stem that affixes to suffixes and prefixes or to the root word is know as \"lemma\"."
   ]
  },
  {
   "cell_type": "code",
   "execution_count": 10,
   "metadata": {},
   "outputs": [
    {
     "name": "stdout",
     "output_type": "stream",
     "text": [
      "eaten--->eaten\n",
      "eat--->eat\n",
      "eating--->eat\n",
      "history--->histori\n",
      "programs--->program\n",
      "programming--->program\n",
      "going--->go\n",
      "goes--->goe\n",
      "gone--->gone\n"
     ]
    }
   ],
   "source": [
    "from nltk.stem import PorterStemmer\n",
    "words = [\"eaten\",\"eat\",\"eating\",\"history\",\"programs\",\"programming\",\"going\",\"goes\",\"gone\"]\n",
    "pstemmer = PorterStemmer()\n",
    "for word in words:\n",
    "    print(word+\"--->\"+pstemmer.stem(word))\n"
   ]
  },
  {
   "cell_type": "code",
   "execution_count": 11,
   "metadata": {},
   "outputs": [
    {
     "data": {
      "text/plain": [
       "'ingeat'"
      ]
     },
     "execution_count": 11,
     "metadata": {},
     "output_type": "execute_result"
    }
   ],
   "source": [
    "from nltk.stem import RegexpStemmer\n",
    "regex = RegexpStemmer('ing$|s$|$|able$',min=4)\n",
    "regex.stem('ingeating')"
   ]
  },
  {
   "cell_type": "code",
   "execution_count": 12,
   "metadata": {},
   "outputs": [
    {
     "data": {
      "text/plain": [
       "'eat'"
      ]
     },
     "execution_count": 12,
     "metadata": {},
     "output_type": "execute_result"
    }
   ],
   "source": [
    "regex1 = RegexpStemmer('ing|s$|$|able$',min=4)\n",
    "regex1.stem('ingeating')"
   ]
  },
  {
   "cell_type": "markdown",
   "metadata": {},
   "source": [
    "snowballStemmer > poterStemmer"
   ]
  },
  {
   "cell_type": "code",
   "execution_count": 13,
   "metadata": {},
   "outputs": [
    {
     "name": "stdout",
     "output_type": "stream",
     "text": [
      "eaten--->eaten\n",
      "eat--->eat\n",
      "eating--->eat\n",
      "history--->histori\n",
      "programs--->program\n",
      "programming--->program\n",
      "going--->go\n",
      "goes--->goe\n",
      "gone--->gone\n"
     ]
    }
   ],
   "source": [
    "from nltk.stem import SnowballStemmer\n",
    "sbs = SnowballStemmer(language=\"english\")\n",
    "for word in words:\n",
    "    print(word+\"--->\"+sbs.stem(word))"
   ]
  },
  {
   "cell_type": "code",
   "execution_count": 15,
   "metadata": {},
   "outputs": [
    {
     "data": {
      "text/plain": [
       "('fairli', 'sportingli')"
      ]
     },
     "execution_count": 15,
     "metadata": {},
     "output_type": "execute_result"
    }
   ],
   "source": [
    "#lets see where snowball stemmer is better\n",
    "pstemmer.stem(\"fairly\"), pstemmer.stem(\"sportingly\")"
   ]
  },
  {
   "cell_type": "code",
   "execution_count": 16,
   "metadata": {},
   "outputs": [
    {
     "data": {
      "text/plain": [
       "('fair', 'sport')"
      ]
     },
     "execution_count": 16,
     "metadata": {},
     "output_type": "execute_result"
    }
   ],
   "source": [
    "sbs.stem(\"fairly\"), sbs.stem(\"sportingly\")"
   ]
  },
  {
   "cell_type": "code",
   "execution_count": 17,
   "metadata": {},
   "outputs": [
    {
     "data": {
      "text/plain": [
       "'goe'"
      ]
     },
     "execution_count": 17,
     "metadata": {},
     "output_type": "execute_result"
    }
   ],
   "source": [
    "sbs.stem(\"goes\")"
   ]
  },
  {
   "cell_type": "markdown",
   "metadata": {},
   "source": [
    "##### Even in the snowball stemmer the word form is changing to overcome this we use \"lemmatization\""
   ]
  }
 ],
 "metadata": {
  "kernelspec": {
   "display_name": "base",
   "language": "python",
   "name": "python3"
  },
  "language_info": {
   "codemirror_mode": {
    "name": "ipython",
    "version": 3
   },
   "file_extension": ".py",
   "mimetype": "text/x-python",
   "name": "python",
   "nbconvert_exporter": "python",
   "pygments_lexer": "ipython3",
   "version": "3.12.4"
  }
 },
 "nbformat": 4,
 "nbformat_minor": 2
}
