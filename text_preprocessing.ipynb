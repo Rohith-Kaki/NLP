{
 "cells": [
  {
   "cell_type": "code",
   "execution_count": 13,
   "metadata": {},
   "outputs": [
    {
     "name": "stderr",
     "output_type": "stream",
     "text": [
      "[nltk_data] Downloading package stopwords to\n",
      "[nltk_data]     C:\\Users\\rohit\\AppData\\Roaming\\nltk_data...\n",
      "[nltk_data]   Package stopwords is already up-to-date!\n",
      "[nltk_data] Downloading package punkt_tab to\n",
      "[nltk_data]     C:\\Users\\rohit\\AppData\\Roaming\\nltk_data...\n",
      "[nltk_data]   Unzipping tokenizers\\punkt_tab.zip.\n"
     ]
    },
    {
     "data": {
      "text/plain": [
       "True"
      ]
     },
     "execution_count": 13,
     "metadata": {},
     "output_type": "execute_result"
    }
   ],
   "source": [
    "import nltk\n",
    "nltk.download('stopwords')\n",
    "nltk.download('punkt_tab')"
   ]
  },
  {
   "cell_type": "code",
   "execution_count": 4,
   "metadata": {},
   "outputs": [
    {
     "data": {
      "text/plain": [
       "['i',\n",
       " 'me',\n",
       " 'my',\n",
       " 'myself',\n",
       " 'we',\n",
       " 'our',\n",
       " 'ours',\n",
       " 'ourselves',\n",
       " 'you',\n",
       " \"you're\",\n",
       " \"you've\",\n",
       " \"you'll\",\n",
       " \"you'd\",\n",
       " 'your',\n",
       " 'yours',\n",
       " 'yourself',\n",
       " 'yourselves',\n",
       " 'he',\n",
       " 'him',\n",
       " 'his',\n",
       " 'himself',\n",
       " 'she',\n",
       " \"she's\",\n",
       " 'her',\n",
       " 'hers',\n",
       " 'herself',\n",
       " 'it',\n",
       " \"it's\",\n",
       " 'its',\n",
       " 'itself',\n",
       " 'they',\n",
       " 'them',\n",
       " 'their',\n",
       " 'theirs',\n",
       " 'themselves',\n",
       " 'what',\n",
       " 'which',\n",
       " 'who',\n",
       " 'whom',\n",
       " 'this',\n",
       " 'that',\n",
       " \"that'll\",\n",
       " 'these',\n",
       " 'those',\n",
       " 'am',\n",
       " 'is',\n",
       " 'are',\n",
       " 'was',\n",
       " 'were',\n",
       " 'be',\n",
       " 'been',\n",
       " 'being',\n",
       " 'have',\n",
       " 'has',\n",
       " 'had',\n",
       " 'having',\n",
       " 'do',\n",
       " 'does',\n",
       " 'did',\n",
       " 'doing',\n",
       " 'a',\n",
       " 'an',\n",
       " 'the',\n",
       " 'and',\n",
       " 'but',\n",
       " 'if',\n",
       " 'or',\n",
       " 'because',\n",
       " 'as',\n",
       " 'until',\n",
       " 'while',\n",
       " 'of',\n",
       " 'at',\n",
       " 'by',\n",
       " 'for',\n",
       " 'with',\n",
       " 'about',\n",
       " 'against',\n",
       " 'between',\n",
       " 'into',\n",
       " 'through',\n",
       " 'during',\n",
       " 'before',\n",
       " 'after',\n",
       " 'above',\n",
       " 'below',\n",
       " 'to',\n",
       " 'from',\n",
       " 'up',\n",
       " 'down',\n",
       " 'in',\n",
       " 'out',\n",
       " 'on',\n",
       " 'off',\n",
       " 'over',\n",
       " 'under',\n",
       " 'again',\n",
       " 'further',\n",
       " 'then',\n",
       " 'once',\n",
       " 'here',\n",
       " 'there',\n",
       " 'when',\n",
       " 'where',\n",
       " 'why',\n",
       " 'how',\n",
       " 'all',\n",
       " 'any',\n",
       " 'both',\n",
       " 'each',\n",
       " 'few',\n",
       " 'more',\n",
       " 'most',\n",
       " 'other',\n",
       " 'some',\n",
       " 'such',\n",
       " 'no',\n",
       " 'nor',\n",
       " 'not',\n",
       " 'only',\n",
       " 'own',\n",
       " 'same',\n",
       " 'so',\n",
       " 'than',\n",
       " 'too',\n",
       " 'very',\n",
       " 's',\n",
       " 't',\n",
       " 'can',\n",
       " 'will',\n",
       " 'just',\n",
       " 'don',\n",
       " \"don't\",\n",
       " 'should',\n",
       " \"should've\",\n",
       " 'now',\n",
       " 'd',\n",
       " 'll',\n",
       " 'm',\n",
       " 'o',\n",
       " 're',\n",
       " 've',\n",
       " 'y',\n",
       " 'ain',\n",
       " 'aren',\n",
       " \"aren't\",\n",
       " 'couldn',\n",
       " \"couldn't\",\n",
       " 'didn',\n",
       " \"didn't\",\n",
       " 'doesn',\n",
       " \"doesn't\",\n",
       " 'hadn',\n",
       " \"hadn't\",\n",
       " 'hasn',\n",
       " \"hasn't\",\n",
       " 'haven',\n",
       " \"haven't\",\n",
       " 'isn',\n",
       " \"isn't\",\n",
       " 'ma',\n",
       " 'mightn',\n",
       " \"mightn't\",\n",
       " 'mustn',\n",
       " \"mustn't\",\n",
       " 'needn',\n",
       " \"needn't\",\n",
       " 'shan',\n",
       " \"shan't\",\n",
       " 'shouldn',\n",
       " \"shouldn't\",\n",
       " 'wasn',\n",
       " \"wasn't\",\n",
       " 'weren',\n",
       " \"weren't\",\n",
       " 'won',\n",
       " \"won't\",\n",
       " 'wouldn',\n",
       " \"wouldn't\"]"
      ]
     },
     "execution_count": 4,
     "metadata": {},
     "output_type": "execute_result"
    }
   ],
   "source": [
    "from nltk.corpus import stopwords\n",
    "stopwords.words(\"english\")"
   ]
  },
  {
   "cell_type": "code",
   "execution_count": 9,
   "metadata": {},
   "outputs": [],
   "source": [
    "corpus = \"\"\"In the year 1960, APJ Abdul Kalam’s graduation took place from Madras Institute of Technology. The association of Kalam took place with the Defence Research & Development Service (DRDS). Furthermore, he joined as a scientist at the Aeronautical Development Establishment of the Defence Research and Development Organisation. These were the beginning achievements of his prestigious career as a scientist.\n",
    "\n",
    "Big achievement for Kalam came when he was the project director at ISRO of India‘s first-ever Satellite Launch Vehicle (SLV- III). This satellite was responsible for the deployment of the Rohini satellite in 1980. Moreover, Kalam was highly influential in the development of Polar Satellite Launch Vehicle (PSLV) and SLV projects.\n",
    "\n",
    "Both projects were successful. Bringing enhancement in the reputation of Kalam. Furthermore, the development of ballistic missiles was possible because of the efforts of this man. Most noteworthy, Kalam earned the esteemed title of “The missile Man of India”.\n",
    "\n",
    "The Government of India became aware of the brilliance of this man and made him the Chief Executive of the Integrated Guided Missiles Development Program (IGMDP). Furthermore, this program was responsible for the research and development of Missiles. The achievements of this distinguished man didn’t stop there.\n",
    "\n",
    "More success was to come in the form of Agni and Prithvi missiles. Once again, Kalam was influential in the developments of these missiles. It was during his tenure in IGMDP that Kalam played an instrumental role in the developments of missiles like Agni and Prithvi. Moreover, Kamal was a key figure in the Pokhran II nuclear test.\"\"\""
   ]
  },
  {
   "cell_type": "code",
   "execution_count": 14,
   "metadata": {},
   "outputs": [
    {
     "data": {
      "text/plain": [
       "['In the year 1960, APJ Abdul Kalam’s graduation took place from Madras Institute of Technology.',\n",
       " 'The association of Kalam took place with the Defence Research & Development Service (DRDS).',\n",
       " 'Furthermore, he joined as a scientist at the Aeronautical Development Establishment of the Defence Research and Development Organisation.',\n",
       " 'These were the beginning achievements of his prestigious career as a scientist.',\n",
       " 'Big achievement for Kalam came when he was the project director at ISRO of India‘s first-ever Satellite Launch Vehicle (SLV- III).',\n",
       " 'This satellite was responsible for the deployment of the Rohini satellite in 1980.',\n",
       " 'Moreover, Kalam was highly influential in the development of Polar Satellite Launch Vehicle (PSLV) and SLV projects.',\n",
       " 'Both projects were successful.',\n",
       " 'Bringing enhancement in the reputation of Kalam.',\n",
       " 'Furthermore, the development of ballistic missiles was possible because of the efforts of this man.',\n",
       " 'Most noteworthy, Kalam earned the esteemed title of “The missile Man of India”.',\n",
       " 'The Government of India became aware of the brilliance of this man and made him the Chief Executive of the Integrated Guided Missiles Development Program (IGMDP).',\n",
       " 'Furthermore, this program was responsible for the research and development of Missiles.',\n",
       " 'The achievements of this distinguished man didn’t stop there.',\n",
       " 'More success was to come in the form of Agni and Prithvi missiles.',\n",
       " 'Once again, Kalam was influential in the developments of these missiles.',\n",
       " 'It was during his tenure in IGMDP that Kalam played an instrumental role in the developments of missiles like Agni and Prithvi.',\n",
       " 'Moreover, Kamal was a key figure in the Pokhran II nuclear test.']"
      ]
     },
     "execution_count": 14,
     "metadata": {},
     "output_type": "execute_result"
    }
   ],
   "source": [
    "sentences = nltk.sent_tokenize(corpus)\n",
    "sentences"
   ]
  },
  {
   "cell_type": "code",
   "execution_count": 15,
   "metadata": {},
   "outputs": [],
   "source": [
    "from nltk.stem import PorterStemmer\n",
    "pst = PorterStemmer()"
   ]
  },
  {
   "cell_type": "markdown",
   "metadata": {},
   "source": [
    "#### corpus --> sentences --> words --> fliter non-stopwords --> apply stemming on them --> convert back to sentences\n"
   ]
  },
  {
   "cell_type": "code",
   "execution_count": 16,
   "metadata": {},
   "outputs": [],
   "source": [
    "for i in range(len(sentences)):\n",
    "    words = nltk.word_tokenize(sentences[i])\n",
    "    words = [pst.stem(word) for word in words if word not in stopwords.words('english')]\n",
    "    sentences[i] = ' '.join(words)"
   ]
  },
  {
   "cell_type": "code",
   "execution_count": 17,
   "metadata": {},
   "outputs": [
    {
     "data": {
      "text/plain": [
       "['in year 1960 , apj abdul kalam ’ graduat took place madra institut technolog .',\n",
       " 'the associ kalam took place defenc research & develop servic ( drd ) .',\n",
       " 'furthermor , join scientist aeronaut develop establish defenc research develop organis .',\n",
       " 'these begin achiev prestigi career scientist .',\n",
       " 'big achiev kalam came project director isro india ‘ first-ev satellit launch vehicl ( slv- iii ) .',\n",
       " 'thi satellit respons deploy rohini satellit 1980 .',\n",
       " 'moreov , kalam highli influenti develop polar satellit launch vehicl ( pslv ) slv project .',\n",
       " 'both project success .',\n",
       " 'bring enhanc reput kalam .',\n",
       " 'furthermor , develop ballist missil possibl effort man .',\n",
       " 'most noteworthi , kalam earn esteem titl “ the missil man india ” .',\n",
       " 'the govern india becam awar brillianc man made chief execut integr guid missil develop program ( igmdp ) .',\n",
       " 'furthermor , program respons research develop missil .',\n",
       " 'the achiev distinguish man ’ stop .',\n",
       " 'more success come form agni prithvi missil .',\n",
       " 'onc , kalam influenti develop missil .',\n",
       " 'it tenur igmdp kalam play instrument role develop missil like agni prithvi .',\n",
       " 'moreov , kamal key figur pokhran ii nuclear test .']"
      ]
     },
     "execution_count": 17,
     "metadata": {},
     "output_type": "execute_result"
    }
   ],
   "source": [
    "sentences"
   ]
  },
  {
   "cell_type": "code",
   "execution_count": 18,
   "metadata": {},
   "outputs": [
    {
     "data": {
      "text/plain": [
       "['In the year 1960, APJ Abdul Kalam’s graduation took place from Madras Institute of Technology.',\n",
       " 'The association of Kalam took place with the Defence Research & Development Service (DRDS).',\n",
       " 'Furthermore, he joined as a scientist at the Aeronautical Development Establishment of the Defence Research and Development Organisation.',\n",
       " 'These were the beginning achievements of his prestigious career as a scientist.',\n",
       " 'Big achievement for Kalam came when he was the project director at ISRO of India‘s first-ever Satellite Launch Vehicle (SLV- III).',\n",
       " 'This satellite was responsible for the deployment of the Rohini satellite in 1980.',\n",
       " 'Moreover, Kalam was highly influential in the development of Polar Satellite Launch Vehicle (PSLV) and SLV projects.',\n",
       " 'Both projects were successful.',\n",
       " 'Bringing enhancement in the reputation of Kalam.',\n",
       " 'Furthermore, the development of ballistic missiles was possible because of the efforts of this man.',\n",
       " 'Most noteworthy, Kalam earned the esteemed title of “The missile Man of India”.',\n",
       " 'The Government of India became aware of the brilliance of this man and made him the Chief Executive of the Integrated Guided Missiles Development Program (IGMDP).',\n",
       " 'Furthermore, this program was responsible for the research and development of Missiles.',\n",
       " 'The achievements of this distinguished man didn’t stop there.',\n",
       " 'More success was to come in the form of Agni and Prithvi missiles.',\n",
       " 'Once again, Kalam was influential in the developments of these missiles.',\n",
       " 'It was during his tenure in IGMDP that Kalam played an instrumental role in the developments of missiles like Agni and Prithvi.',\n",
       " 'Moreover, Kamal was a key figure in the Pokhran II nuclear test.']"
      ]
     },
     "execution_count": 18,
     "metadata": {},
     "output_type": "execute_result"
    }
   ],
   "source": [
    "sentences1 = nltk.sent_tokenize(corpus)\n",
    "sentences1"
   ]
  },
  {
   "cell_type": "code",
   "execution_count": 19,
   "metadata": {},
   "outputs": [],
   "source": [
    "from nltk.stem import SnowballStemmer\n",
    "sbs = SnowballStemmer(language='english')\n",
    "\n",
    "for i in range(len(sentences1)):\n",
    "    words = nltk.word_tokenize(sentences1[i])\n",
    "    words = [sbs.stem(word) for word in words if word not in stopwords.words('english')]\n",
    "    sentences1[i] = ' '.join(words)"
   ]
  },
  {
   "cell_type": "code",
   "execution_count": 20,
   "metadata": {},
   "outputs": [
    {
     "data": {
      "text/plain": [
       "['in year 1960 , apj abdul kalam ’ graduat took place madra institut technolog .',\n",
       " 'the associ kalam took place defenc research & develop servic ( drds ) .',\n",
       " 'furthermor , join scientist aeronaut develop establish defenc research develop organis .',\n",
       " 'these begin achiev prestigi career scientist .',\n",
       " 'big achiev kalam came project director isro india ‘ first-ev satellit launch vehicl ( slv- iii ) .',\n",
       " 'this satellit respons deploy rohini satellit 1980 .',\n",
       " 'moreov , kalam high influenti develop polar satellit launch vehicl ( pslv ) slv project .',\n",
       " 'both project success .',\n",
       " 'bring enhanc reput kalam .',\n",
       " 'furthermor , develop ballist missil possibl effort man .',\n",
       " 'most noteworthi , kalam earn esteem titl “ the missil man india ” .',\n",
       " 'the govern india becam awar brillianc man made chief execut integr guid missil develop program ( igmdp ) .',\n",
       " 'furthermor , program respons research develop missil .',\n",
       " 'the achiev distinguish man ’ stop .',\n",
       " 'more success come form agni prithvi missil .',\n",
       " 'onc , kalam influenti develop missil .',\n",
       " 'it tenur igmdp kalam play instrument role develop missil like agni prithvi .',\n",
       " 'moreov , kamal key figur pokhran ii nuclear test .']"
      ]
     },
     "execution_count": 20,
     "metadata": {},
     "output_type": "execute_result"
    }
   ],
   "source": [
    "sentences1"
   ]
  },
  {
   "cell_type": "code",
   "execution_count": 21,
   "metadata": {},
   "outputs": [],
   "source": [
    "from nltk.stem import WordNetLemmatizer\n",
    "wnl = WordNetLemmatizer()\n",
    "\n",
    "sentences2 = nltk.sent_tokenize(corpus)\n",
    "for i in range(len(sentences2)):\n",
    "    words = nltk.word_tokenize(sentences2[i]) #change to lower case to reduce the unique words count. \n",
    "    words = [wnl.lemmatize(word.lower(),pos='v') for word in words if word not in stopwords.words('english')]\n",
    "    sentences2[i] = ' '.join(words)"
   ]
  },
  {
   "cell_type": "code",
   "execution_count": 22,
   "metadata": {},
   "outputs": [
    {
     "data": {
      "text/plain": [
       "['in year 1960 , apj abdul kalam ’ graduation take place madras institute technology .',\n",
       " 'the association kalam take place defence research & development service ( drds ) .',\n",
       " 'furthermore , join scientist aeronautical development establishment defence research development organisation .',\n",
       " 'these begin achievements prestigious career scientist .',\n",
       " 'big achievement kalam come project director isro india ‘ first-ever satellite launch vehicle ( slv- iii ) .',\n",
       " 'this satellite responsible deployment rohini satellite 1980 .',\n",
       " 'moreover , kalam highly influential development polar satellite launch vehicle ( pslv ) slv project .',\n",
       " 'both project successful .',\n",
       " 'bring enhancement reputation kalam .',\n",
       " 'furthermore , development ballistic missiles possible efforts man .',\n",
       " 'most noteworthy , kalam earn esteem title “ the missile man india ” .',\n",
       " 'the government india become aware brilliance man make chief executive integrate guide missiles development program ( igmdp ) .',\n",
       " 'furthermore , program responsible research development missiles .',\n",
       " 'the achievements distinguish man ’ stop .',\n",
       " 'more success come form agni prithvi missiles .',\n",
       " 'once , kalam influential developments missiles .',\n",
       " 'it tenure igmdp kalam play instrumental role developments missiles like agni prithvi .',\n",
       " 'moreover , kamal key figure pokhran ii nuclear test .']"
      ]
     },
     "execution_count": 22,
     "metadata": {},
     "output_type": "execute_result"
    }
   ],
   "source": [
    "sentences2"
   ]
  }
 ],
 "metadata": {
  "kernelspec": {
   "display_name": "ML",
   "language": "python",
   "name": "python3"
  },
  "language_info": {
   "codemirror_mode": {
    "name": "ipython",
    "version": 3
   },
   "file_extension": ".py",
   "mimetype": "text/x-python",
   "name": "python",
   "nbconvert_exporter": "python",
   "pygments_lexer": "ipython3",
   "version": "3.11.11"
  }
 },
 "nbformat": 4,
 "nbformat_minor": 2
}
